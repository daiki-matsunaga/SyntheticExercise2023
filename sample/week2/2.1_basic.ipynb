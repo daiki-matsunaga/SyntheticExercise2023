{
 "cells": [
  {
   "cell_type": "markdown",
   "id": "742baf51-7893-4dca-b607-f951f0659eb0",
   "metadata": {},
   "source": [
    "### Google Driveの読み込み"
   ]
  },
  {
   "cell_type": "code",
   "execution_count": null,
   "id": "d1ca994c-b455-4ea8-b675-8e7cf77665c9",
   "metadata": {},
   "outputs": [],
   "source": [
    "from google.colab import drive\n",
    "drive.mount('/content/drive')"
   ]
  },
  {
   "cell_type": "markdown",
   "id": "d7e94f6b-0d04-40ca-9ec6-dad71505f7e5",
   "metadata": {},
   "source": [
    "### ライブラリの指定"
   ]
  },
  {
   "cell_type": "code",
   "execution_count": null,
   "id": "e3383917-6086-4b66-a08d-eb995f03b611",
   "metadata": {},
   "outputs": [],
   "source": [
    "# プログラムの先頭において，そのプログラムで使うライブラリをimport文を用いて呼び出す\n",
    "import numpy as np                # numpy: 数値計算のライブラリ\n",
    "import matplotlib.pyplot as plt   # matplotlib: グラフ描画，画像表示のためのライブラリ\n",
    "from skimage import io\n",
    "\n",
    "mydir = '/content/drive/MyDrive/SyntheticExercise/'"
   ]
  },
  {
   "cell_type": "markdown",
   "id": "be321da8-a631-4d4a-90ee-d8af2afded0b",
   "metadata": {},
   "source": [
    "### 画像読み込み"
   ]
  },
  {
   "cell_type": "code",
   "execution_count": null,
   "id": "8cfd0739-b2b9-48b7-b97c-089a7c3a8a0a",
   "metadata": {},
   "outputs": [],
   "source": [
    "image0 = plt.imread(mydir + 'week2/original/image0000.tif').astype(np.int16) # 読み込んだファイルはディレクトリoriginal内のimage0000.tif"
   ]
  },
  {
   "cell_type": "markdown",
   "id": "8b87c9b6-dcd0-4dcb-a39e-2923e0e38dee",
   "metadata": {},
   "source": [
    "### 画像表示"
   ]
  },
  {
   "cell_type": "code",
   "execution_count": null,
   "id": "33b37921-e8ef-41ab-9ed6-54588da39917",
   "metadata": {},
   "outputs": [],
   "source": [
    "fig, ax = plt.subplots()\n",
    "ax.imshow(image0, cmap='gray') # cmap: colormapをグレースケールに指定\n",
    "plt.show()"
   ]
  },
  {
   "cell_type": "markdown",
   "id": "a922a533-e281-41f0-b2d5-03856db863f4",
   "metadata": {},
   "source": [
    "### カラーバーの表示"
   ]
  },
  {
   "cell_type": "code",
   "execution_count": null,
   "id": "933f6f7d-6414-490b-821f-6a03117c8348",
   "metadata": {},
   "outputs": [],
   "source": [
    "fig, ax = plt.subplots()\n",
    "mappable = ax.imshow(image0, cmap='gray') # グラフを指示する関数から返り値を受け取り\n",
    "cbar = fig.colorbar(mappable) # カラーバーへ入力する\n",
    "cbar.set_label('Intensity') # カラーバーのラベル\n",
    "plt.show()"
   ]
  },
  {
   "cell_type": "markdown",
   "id": "c0c67c6c-934b-464e-86f3-e1e6daf88907",
   "metadata": {},
   "source": [
    "### 画像のピクセル輝度の表示"
   ]
  },
  {
   "cell_type": "code",
   "execution_count": null,
   "id": "b5a8addf-5dd4-427e-adaf-ba528b689db9",
   "metadata": {},
   "outputs": [],
   "source": [
    "print(image0) # 輝度を2次元配列として格納"
   ]
  },
  {
   "cell_type": "markdown",
   "id": "3243e4fb-aaa1-4577-b261-43bdc6f19363",
   "metadata": {},
   "source": [
    "### 画像サイズの確認"
   ]
  },
  {
   "cell_type": "code",
   "execution_count": null,
   "id": "efc3731b-347b-473e-a65d-d55a206913bb",
   "metadata": {},
   "outputs": [],
   "source": [
    "print(image0.shape)"
   ]
  },
  {
   "cell_type": "markdown",
   "id": "86d5cfaf-ea58-4110-b8e4-dc185f8af695",
   "metadata": {},
   "source": [
    "### 最大・最小・平均・総和の輝度"
   ]
  },
  {
   "cell_type": "code",
   "execution_count": null,
   "id": "85e1e03a-d264-410b-9960-7f800572469e",
   "metadata": {},
   "outputs": [],
   "source": [
    "print('maximum intensity: ', image0.max())\n",
    "print('minimum intensity: ', image0.min())\n",
    "print('average intensity: ', image0.mean())\n",
    "print('total intensity:   ', image0.sum())"
   ]
  },
  {
   "cell_type": "markdown",
   "id": "b7df8752-7ad9-4fdd-95a0-3d10f1bb1dfe",
   "metadata": {},
   "source": [
    "### 輝度のヒストグラム"
   ]
  },
  {
   "cell_type": "code",
   "execution_count": null,
   "id": "c6b586c5-53cf-457d-a66e-61e563dfe7a8",
   "metadata": {},
   "outputs": [],
   "source": [
    "fig, ax = plt.subplots()\n",
    "ax.hist(image0.flatten(), bins=20) # histで配列の値のヒストグラムを描く．binsはヒストグラムのビンの数\n",
    "plt.show()\n",
    "\n",
    "# 備考：image0.flatten()では画像の2次元配列を1次元配列に変換している"
   ]
  },
  {
   "cell_type": "markdown",
   "id": "62fe81c9-2c55-46ed-bf90-ada83efb2a85",
   "metadata": {},
   "source": [
    "### 実サイズへの変換"
   ]
  },
  {
   "cell_type": "code",
   "execution_count": null,
   "id": "ac8c496d-f9a9-4df0-8591-6de42a091f7e",
   "metadata": {},
   "outputs": [],
   "source": [
    "um_pix = 0.1036 # 1ピクセル = 0.1036 マイクロメートル\n",
    "\n",
    "fig, ax = plt.subplots()\n",
    "mappable = ax.imshow(image0, cmap='gray', extent=[0, 2048*um_pix, 0, 2048*um_pix]) # extentでx，ｙ領域を変換する\n",
    "cbar = fig.colorbar(mappable) # カラーバーへ入力する\n",
    "cbar.set_label('Intensity') # カラーバーのラベル\n",
    "plt.show()"
   ]
  },
  {
   "cell_type": "markdown",
   "id": "973669de-454b-46be-82ba-22fd3a53b022",
   "metadata": {},
   "source": [
    "### スケールバーの挿入"
   ]
  },
  {
   "cell_type": "code",
   "execution_count": null,
   "id": "559556e7-c3c9-478f-acd7-a72a618eb334",
   "metadata": {},
   "outputs": [],
   "source": [
    "from matplotlib_scalebar.scalebar import ScaleBar\n",
    "\n",
    "mappable = ax.imshow(image0, cmap='gray', extent=[0, 2048*um_pix, 0, 2048*um_pix])\n",
    "cbar = fig.colorbar(mappable) # カラーバーへ入力する\n",
    "cbar.set_label('Intensity') # カラーバーのラベル\n",
    "\n",
    "# スケールバーの挿入\n",
    "scalebar = ScaleBar(1, 'um', fixed_value=50, location='lower right')\n",
    "ax.add_artist(scalebar)\n",
    "\n",
    "plt.show()"
   ]
  },
  {
   "cell_type": "markdown",
   "id": "3e83327c-0e82-403f-95f2-3524b1441dbe",
   "metadata": {},
   "source": [
    "### 画像のクロップ（切り出し; crop）"
   ]
  },
  {
   "cell_type": "code",
   "execution_count": null,
   "id": "e6ca9aeb-e74c-4602-b694-086358ad1fdc",
   "metadata": {},
   "outputs": [],
   "source": [
    "cropped = image0[700:1300, 700:1300] # image[ymin:ymax, xmin:xmax] を指定すると，その範囲の配列を返す\n",
    "\n",
    "fig, ax = plt.subplots()\n",
    "ax.imshow(cropped, cmap='gray')\n",
    "plt.show()"
   ]
  },
  {
   "cell_type": "markdown",
   "id": "a93676ef-7403-4d18-a0ba-c3dfc4ff410f",
   "metadata": {},
   "source": [
    "### 複数の画像表示1"
   ]
  },
  {
   "cell_type": "code",
   "execution_count": null,
   "id": "254bd51e-ea66-42f8-a0c2-711d937b8442",
   "metadata": {},
   "outputs": [],
   "source": [
    "fig, axes = plt.subplots(1, 2, figsize=(12,6)) # 1つ目と2つ目の引数は図の配置を何行何列にするかに対応する．figsizeで図の大きさを変更可\n",
    "axes[0].imshow(image0, cmap='gray')\n",
    "axes[1].imshow(cropped, cmap='gray')\n",
    "plt.show()"
   ]
  },
  {
   "cell_type": "markdown",
   "id": "291e353e-2d28-49e2-956c-79f8b3f13ef8",
   "metadata": {},
   "source": [
    "### 複数の画像表示2 & 保存"
   ]
  },
  {
   "cell_type": "code",
   "execution_count": null,
   "id": "01e21763-d6e1-40fa-97ec-e36c7cbae3d2",
   "metadata": {},
   "outputs": [],
   "source": [
    "fig, axes = plt.subplots(2, 2, figsize=(10,10)) # 1つ目と2つ目の引数は図の配置を何行何列にするかに対応する．figsizeで図の大きさを変更可\n",
    "axes[0, 0].imshow(image0, cmap='gray')\n",
    "axes[0, 1].imshow(cropped, cmap='gray')\n",
    "axes[1, 0].hist(image0.flatten(), bins=100)\n",
    "axes[1, 1].hist(cropped.flatten(), bins=100)\n",
    "\n",
    "plt.savefig(mydir + 'test.png')\n",
    "plt.show()"
   ]
  },
  {
   "cell_type": "markdown",
   "id": "3fac1d9b-0302-49e5-9664-4d1eb4697e92",
   "metadata": {},
   "source": [
    "### 練習問題1：初期状態・FRAP直後・実験終了時の画像を3つ横に並べて表示せよ．細胞だけが写るように適宜クロップしても良い．"
   ]
  },
  {
   "cell_type": "code",
   "execution_count": null,
   "id": "f52e3a07-6c40-498b-823e-e61c0abd03ed",
   "metadata": {},
   "outputs": [],
   "source": [
    "# 練習問題1\n"
   ]
  },
  {
   "cell_type": "markdown",
   "id": "f51e4d31-4df5-4b66-b01c-6c1d4d37adc3",
   "metadata": {},
   "source": [
    "### 練習問題2：初期状態・FRAP直後・実験終了時の3つの時点において，輝度の平均値を比較せよ．"
   ]
  },
  {
   "cell_type": "code",
   "execution_count": null,
   "id": "e5aae0f3-b2ca-4732-ad0e-c6bf6144b302",
   "metadata": {},
   "outputs": [],
   "source": [
    "# 練習問題2\n"
   ]
  }
 ],
 "metadata": {
  "kernelspec": {
   "display_name": "Python 3 (ipykernel)",
   "language": "python",
   "name": "python3"
  },
  "language_info": {
   "codemirror_mode": {
    "name": "ipython",
    "version": 3
   },
   "file_extension": ".py",
   "mimetype": "text/x-python",
   "name": "python",
   "nbconvert_exporter": "python",
   "pygments_lexer": "ipython3",
   "version": "3.10.12"
  }
 },
 "nbformat": 4,
 "nbformat_minor": 5
}
