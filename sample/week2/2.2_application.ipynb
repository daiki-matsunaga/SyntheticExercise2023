{
 "cells": [
  {
   "cell_type": "markdown",
   "id": "742baf51-7893-4dca-b607-f951f0659eb0",
   "metadata": {},
   "source": [
    "### Google Driveの読み込み"
   ]
  },
  {
   "cell_type": "code",
   "execution_count": null,
   "id": "d1ca994c-b455-4ea8-b675-8e7cf77665c9",
   "metadata": {},
   "outputs": [],
   "source": [
    "from google.colab import drive\n",
    "drive.mount('/content/drive')"
   ]
  },
  {
   "cell_type": "markdown",
   "id": "d7e94f6b-0d04-40ca-9ec6-dad71505f7e5",
   "metadata": {},
   "source": [
    "### ライブラリの指定"
   ]
  },
  {
   "cell_type": "code",
   "execution_count": null,
   "id": "2b490a00-3ae6-44f8-932c-593178662de6",
   "metadata": {},
   "outputs": [],
   "source": [
    "# プログラムの先頭において，そのプログラムで使うライブラリをimport文を用いて呼び出す\n",
    "import numpy as np                # numpy: 数値計算のライブラリ\n",
    "import matplotlib.pyplot as plt   # matplotlib: グラフ描画，画像表示のためのライブラリ\n",
    "import matplotlib.animation as animation\n",
    "from IPython import display\n",
    "\n",
    "mydir = '/content/drive/MyDrive/SyntheticExercise/'"
   ]
  },
  {
   "cell_type": "markdown",
   "id": "129da986-96b1-4f80-b942-9d8687a62660",
   "metadata": {},
   "source": [
    "### 動画の確認・保存"
   ]
  },
  {
   "cell_type": "code",
   "execution_count": null,
   "id": "49cdea71-0b91-472a-8e77-9ebcc8bf2537",
   "metadata": {},
   "outputs": [],
   "source": [
    "fig, ax = plt.subplots(figsize=(10,10))\n",
    "\n",
    "# 最初の図の作成：ここまでは前回と一緒\n",
    "image0 = plt.imread(mydir + 'original/image0000.tif')\n",
    "mappable = ax.imshow(image0, cmap='gray') # グラフを指示する関数から返り値を受け取り\n",
    "cbar = fig.colorbar(mappable) # カラーバーへ入力する\n",
    "cbar.set_label('Intensity') # カラーバーのラベル\n",
    "\n",
    "# 図の中身を更新する\n",
    "def update(idImage):\n",
    "    img = plt.imread(f'original/image{idImage:04}.tif')\n",
    "    ax.imshow(img, cmap='gray')\n",
    "\n",
    "ani = animation.FuncAnimation(fig, update, frames=20, interval=200)\n",
    "\n",
    "# 動画の表示\n",
    "html = display.HTML(ani.to_jshtml())\n",
    "display.display(html)\n",
    "plt.close()\n",
    "\n",
    "# 動画の保存\n",
    "ani.save('test.mp4')"
   ]
  },
  {
   "cell_type": "markdown",
   "id": "deafbe22-5150-436b-a16e-0386b9e2c738",
   "metadata": {},
   "source": [
    "## 高度な画像処理\n",
    "\n",
    "以下よりFRAPの回復曲線を得るための検査領域を定める．  \n",
    "検査領域を定めるためには，まず領域をクロップした上で，どこの部分についての回復を見るかを決める必要がある．  \n",
    "以下では条件に該当する画像の部分を指定する方法について説明する．"
   ]
  },
  {
   "cell_type": "markdown",
   "id": "8e70fecd-1a63-4df3-98a0-8f08c4bbc19c",
   "metadata": {},
   "source": [
    "### 画像の二値化（binalize）"
   ]
  },
  {
   "cell_type": "code",
   "execution_count": null,
   "id": "bd3c8dae-5d86-457e-832c-cb7c43d48603",
   "metadata": {
    "scrolled": true
   },
   "outputs": [],
   "source": [
    "cropped = image0[700:1300, 700:1300] # image[ymin:ymax, xmin:xmax] を指定すると，その範囲の配列を返す\n",
    "condition1 = cropped > 500 # 条件式を満たす場合はTrue(=数字の1)，満たさない場合はFalse（=数字の0）\n",
    "\n",
    "fig, ax = plt.subplots()\n",
    "ax.imshow(condition1, cmap='gray')\n",
    "plt.show()"
   ]
  },
  {
   "cell_type": "markdown",
   "id": "1204acbd-e226-4c63-8a9b-126980820925",
   "metadata": {},
   "source": [
    "### 二値化処理後の変数はどうなっているか？"
   ]
  },
  {
   "cell_type": "code",
   "execution_count": null,
   "id": "6dfe9b8c-9eb3-445e-ba1c-1ed6db975bf1",
   "metadata": {},
   "outputs": [],
   "source": [
    "print(condition1)"
   ]
  },
  {
   "cell_type": "markdown",
   "id": "f95fd7c9-5571-4fcc-8d78-3df445c3224b",
   "metadata": {},
   "source": [
    "### 複数条件の論理積"
   ]
  },
  {
   "cell_type": "code",
   "execution_count": null,
   "id": "74d8331e-f460-449c-b031-c8f6d8e5ef85",
   "metadata": {},
   "outputs": [],
   "source": [
    "# 輝度が1000より大きく，2000より小さい部分を抽出したい\n",
    "condition1 = cropped > 1000\n",
    "condition2 = cropped < 2000\n",
    "\n",
    "fig, ax = plt.subplots()\n",
    "ax.imshow(condition1*condition2, cmap='gray') # cmap: colormapをグレースケールに指定\n",
    "plt.show()"
   ]
  },
  {
   "cell_type": "markdown",
   "id": "3055cd10-854e-4bef-989d-0492068195fb",
   "metadata": {},
   "source": [
    "### 条件で抽出した部分のデータ取得"
   ]
  },
  {
   "cell_type": "code",
   "execution_count": null,
   "id": "9ca3011d-5c98-47c9-bd24-0673d5361694",
   "metadata": {},
   "outputs": [],
   "source": [
    "print(image0.mean()) # 画像全体の平均輝度\n",
    "print(cropped.mean()) # クロップ画像の平均輝度\n",
    "print(cropped[condition1].mean()) # クロップ画像のうち，condition1を満たす領域の平均輝度"
   ]
  },
  {
   "cell_type": "markdown",
   "id": "2b8341d3-50ce-49d9-bd9d-e69add07f045",
   "metadata": {},
   "source": [
    "### 建設中：連番処理"
   ]
  },
  {
   "cell_type": "code",
   "execution_count": null,
   "id": "85cdcbb1-d93b-4132-8321-3a312b0fdc58",
   "metadata": {},
   "outputs": [],
   "source": [
    "time = []\n",
    "meanIntensity = []\n",
    "\n",
    "for idImage in range(numImage):\n",
    "    imgCell0 = plt.imread(mydir + f'original/image{idImage:04}.tif').astype(np.int16)\n",
    "\n",
    "    # meanIntensity.append(...)"
   ]
  },
  {
   "cell_type": "markdown",
   "id": "168eb51f-9c66-45c9-b6f8-a812b1c2daf2",
   "metadata": {},
   "source": [
    "### 建設中：フィッティング"
   ]
  },
  {
   "cell_type": "code",
   "execution_count": null,
   "id": "1a67fc62-7537-49b0-826f-5e53cad7164a",
   "metadata": {},
   "outputs": [],
   "source": [
    "def func(t, a, b, l):\n",
    "    return a - b*np.exp(-l*(t - 60.0))\n",
    "\n",
    "meanIntensity = np.array(meanIntensity)\n",
    "meanIntensity2 = meanIntensity[time > 50.0]\n",
    "time2 = time[time > 50.0]\n",
    "\n",
    "popt, _ = curve_fit(func, time2, meanIntensity2/meanIntensity[0], p0=[0.4, 0.2, 0.01])\n",
    "\n",
    "print(popt)\n",
    "\n",
    "fig, ax = plt.subplots()\n",
    "ax.plot(time, meanIntensity/meanIntensity[0])\n",
    "ax.plot(time2, func(time2, popt[0], popt[1], popt[2]))\n",
    "plt.show()"
   ]
  }
 ],
 "metadata": {
  "kernelspec": {
   "display_name": "Python 3 (ipykernel)",
   "language": "python",
   "name": "python3"
  },
  "language_info": {
   "codemirror_mode": {
    "name": "ipython",
    "version": 3
   },
   "file_extension": ".py",
   "mimetype": "text/x-python",
   "name": "python",
   "nbconvert_exporter": "python",
   "pygments_lexer": "ipython3",
   "version": "3.10.12"
  }
 },
 "nbformat": 4,
 "nbformat_minor": 5
}
